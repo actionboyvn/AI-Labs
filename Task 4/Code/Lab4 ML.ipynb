{
 "cells": [
  {
   "cell_type": "code",
   "execution_count": 2,
   "id": "0934a0fe",
   "metadata": {},
   "outputs": [],
   "source": [
    "import pandas as pd\n",
    "import numpy as np\n",
    "from sklearn.preprocessing import MinMaxScaler, StandardScaler\n",
    "from sklearn.decomposition import PCA\n",
    "from sklearn.model_selection import train_test_split\n",
    "from sklearn.model_selection import GridSearchCV\n",
    "\n",
    "from sklearn.metrics import accuracy_score, precision_score, recall_score, f1_score, confusion_matrix\n",
    "from sklearn.tree import DecisionTreeClassifier\n",
    "from sklearn.naive_bayes import GaussianNB"
   ]
  },
  {
   "cell_type": "code",
   "execution_count": 3,
   "id": "ab568b9d",
   "metadata": {},
   "outputs": [],
   "source": [
    "data = pd.read_csv(\"./dataset/glass.data\", header = None)\n",
    "data.columns = ['Id', 'RI', 'Na', 'Mg', 'Al', 'Si', 'K', 'Ca', 'Ba', 'Fe', 'Type']"
   ]
  },
  {
   "cell_type": "code",
   "execution_count": 4,
   "id": "5dc0db9b",
   "metadata": {},
   "outputs": [
    {
     "data": {
      "text/html": [
       "<div>\n",
       "<style scoped>\n",
       "    .dataframe tbody tr th:only-of-type {\n",
       "        vertical-align: middle;\n",
       "    }\n",
       "\n",
       "    .dataframe tbody tr th {\n",
       "        vertical-align: top;\n",
       "    }\n",
       "\n",
       "    .dataframe thead th {\n",
       "        text-align: right;\n",
       "    }\n",
       "</style>\n",
       "<table border=\"1\" class=\"dataframe\">\n",
       "  <thead>\n",
       "    <tr style=\"text-align: right;\">\n",
       "      <th></th>\n",
       "      <th>Id</th>\n",
       "      <th>RI</th>\n",
       "      <th>Na</th>\n",
       "      <th>Mg</th>\n",
       "      <th>Al</th>\n",
       "      <th>Si</th>\n",
       "      <th>K</th>\n",
       "      <th>Ca</th>\n",
       "      <th>Ba</th>\n",
       "      <th>Fe</th>\n",
       "      <th>Type</th>\n",
       "    </tr>\n",
       "  </thead>\n",
       "  <tbody>\n",
       "    <tr>\n",
       "      <th>0</th>\n",
       "      <td>1</td>\n",
       "      <td>1.52101</td>\n",
       "      <td>13.64</td>\n",
       "      <td>4.49</td>\n",
       "      <td>1.10</td>\n",
       "      <td>71.78</td>\n",
       "      <td>0.06</td>\n",
       "      <td>8.75</td>\n",
       "      <td>0.00</td>\n",
       "      <td>0.0</td>\n",
       "      <td>1</td>\n",
       "    </tr>\n",
       "    <tr>\n",
       "      <th>1</th>\n",
       "      <td>2</td>\n",
       "      <td>1.51761</td>\n",
       "      <td>13.89</td>\n",
       "      <td>3.60</td>\n",
       "      <td>1.36</td>\n",
       "      <td>72.73</td>\n",
       "      <td>0.48</td>\n",
       "      <td>7.83</td>\n",
       "      <td>0.00</td>\n",
       "      <td>0.0</td>\n",
       "      <td>1</td>\n",
       "    </tr>\n",
       "    <tr>\n",
       "      <th>2</th>\n",
       "      <td>3</td>\n",
       "      <td>1.51618</td>\n",
       "      <td>13.53</td>\n",
       "      <td>3.55</td>\n",
       "      <td>1.54</td>\n",
       "      <td>72.99</td>\n",
       "      <td>0.39</td>\n",
       "      <td>7.78</td>\n",
       "      <td>0.00</td>\n",
       "      <td>0.0</td>\n",
       "      <td>1</td>\n",
       "    </tr>\n",
       "    <tr>\n",
       "      <th>3</th>\n",
       "      <td>4</td>\n",
       "      <td>1.51766</td>\n",
       "      <td>13.21</td>\n",
       "      <td>3.69</td>\n",
       "      <td>1.29</td>\n",
       "      <td>72.61</td>\n",
       "      <td>0.57</td>\n",
       "      <td>8.22</td>\n",
       "      <td>0.00</td>\n",
       "      <td>0.0</td>\n",
       "      <td>1</td>\n",
       "    </tr>\n",
       "    <tr>\n",
       "      <th>4</th>\n",
       "      <td>5</td>\n",
       "      <td>1.51742</td>\n",
       "      <td>13.27</td>\n",
       "      <td>3.62</td>\n",
       "      <td>1.24</td>\n",
       "      <td>73.08</td>\n",
       "      <td>0.55</td>\n",
       "      <td>8.07</td>\n",
       "      <td>0.00</td>\n",
       "      <td>0.0</td>\n",
       "      <td>1</td>\n",
       "    </tr>\n",
       "    <tr>\n",
       "      <th>...</th>\n",
       "      <td>...</td>\n",
       "      <td>...</td>\n",
       "      <td>...</td>\n",
       "      <td>...</td>\n",
       "      <td>...</td>\n",
       "      <td>...</td>\n",
       "      <td>...</td>\n",
       "      <td>...</td>\n",
       "      <td>...</td>\n",
       "      <td>...</td>\n",
       "      <td>...</td>\n",
       "    </tr>\n",
       "    <tr>\n",
       "      <th>209</th>\n",
       "      <td>210</td>\n",
       "      <td>1.51623</td>\n",
       "      <td>14.14</td>\n",
       "      <td>0.00</td>\n",
       "      <td>2.88</td>\n",
       "      <td>72.61</td>\n",
       "      <td>0.08</td>\n",
       "      <td>9.18</td>\n",
       "      <td>1.06</td>\n",
       "      <td>0.0</td>\n",
       "      <td>7</td>\n",
       "    </tr>\n",
       "    <tr>\n",
       "      <th>210</th>\n",
       "      <td>211</td>\n",
       "      <td>1.51685</td>\n",
       "      <td>14.92</td>\n",
       "      <td>0.00</td>\n",
       "      <td>1.99</td>\n",
       "      <td>73.06</td>\n",
       "      <td>0.00</td>\n",
       "      <td>8.40</td>\n",
       "      <td>1.59</td>\n",
       "      <td>0.0</td>\n",
       "      <td>7</td>\n",
       "    </tr>\n",
       "    <tr>\n",
       "      <th>211</th>\n",
       "      <td>212</td>\n",
       "      <td>1.52065</td>\n",
       "      <td>14.36</td>\n",
       "      <td>0.00</td>\n",
       "      <td>2.02</td>\n",
       "      <td>73.42</td>\n",
       "      <td>0.00</td>\n",
       "      <td>8.44</td>\n",
       "      <td>1.64</td>\n",
       "      <td>0.0</td>\n",
       "      <td>7</td>\n",
       "    </tr>\n",
       "    <tr>\n",
       "      <th>212</th>\n",
       "      <td>213</td>\n",
       "      <td>1.51651</td>\n",
       "      <td>14.38</td>\n",
       "      <td>0.00</td>\n",
       "      <td>1.94</td>\n",
       "      <td>73.61</td>\n",
       "      <td>0.00</td>\n",
       "      <td>8.48</td>\n",
       "      <td>1.57</td>\n",
       "      <td>0.0</td>\n",
       "      <td>7</td>\n",
       "    </tr>\n",
       "    <tr>\n",
       "      <th>213</th>\n",
       "      <td>214</td>\n",
       "      <td>1.51711</td>\n",
       "      <td>14.23</td>\n",
       "      <td>0.00</td>\n",
       "      <td>2.08</td>\n",
       "      <td>73.36</td>\n",
       "      <td>0.00</td>\n",
       "      <td>8.62</td>\n",
       "      <td>1.67</td>\n",
       "      <td>0.0</td>\n",
       "      <td>7</td>\n",
       "    </tr>\n",
       "  </tbody>\n",
       "</table>\n",
       "<p>214 rows × 11 columns</p>\n",
       "</div>"
      ],
      "text/plain": [
       "      Id       RI     Na    Mg    Al     Si     K    Ca    Ba   Fe  Type\n",
       "0      1  1.52101  13.64  4.49  1.10  71.78  0.06  8.75  0.00  0.0     1\n",
       "1      2  1.51761  13.89  3.60  1.36  72.73  0.48  7.83  0.00  0.0     1\n",
       "2      3  1.51618  13.53  3.55  1.54  72.99  0.39  7.78  0.00  0.0     1\n",
       "3      4  1.51766  13.21  3.69  1.29  72.61  0.57  8.22  0.00  0.0     1\n",
       "4      5  1.51742  13.27  3.62  1.24  73.08  0.55  8.07  0.00  0.0     1\n",
       "..   ...      ...    ...   ...   ...    ...   ...   ...   ...  ...   ...\n",
       "209  210  1.51623  14.14  0.00  2.88  72.61  0.08  9.18  1.06  0.0     7\n",
       "210  211  1.51685  14.92  0.00  1.99  73.06  0.00  8.40  1.59  0.0     7\n",
       "211  212  1.52065  14.36  0.00  2.02  73.42  0.00  8.44  1.64  0.0     7\n",
       "212  213  1.51651  14.38  0.00  1.94  73.61  0.00  8.48  1.57  0.0     7\n",
       "213  214  1.51711  14.23  0.00  2.08  73.36  0.00  8.62  1.67  0.0     7\n",
       "\n",
       "[214 rows x 11 columns]"
      ]
     },
     "execution_count": 4,
     "metadata": {},
     "output_type": "execute_result"
    }
   ],
   "source": [
    "data"
   ]
  },
  {
   "cell_type": "code",
   "execution_count": 5,
   "id": "43e24f50",
   "metadata": {},
   "outputs": [
    {
     "data": {
      "text/plain": [
       "Id        int64\n",
       "RI      float64\n",
       "Na      float64\n",
       "Mg      float64\n",
       "Al      float64\n",
       "Si      float64\n",
       "K       float64\n",
       "Ca      float64\n",
       "Ba      float64\n",
       "Fe      float64\n",
       "Type      int64\n",
       "dtype: object"
      ]
     },
     "execution_count": 5,
     "metadata": {},
     "output_type": "execute_result"
    }
   ],
   "source": [
    "data.dtypes"
   ]
  },
  {
   "cell_type": "code",
   "execution_count": 6,
   "id": "dc203cd1",
   "metadata": {},
   "outputs": [
    {
     "data": {
      "text/html": [
       "<div>\n",
       "<style scoped>\n",
       "    .dataframe tbody tr th:only-of-type {\n",
       "        vertical-align: middle;\n",
       "    }\n",
       "\n",
       "    .dataframe tbody tr th {\n",
       "        vertical-align: top;\n",
       "    }\n",
       "\n",
       "    .dataframe thead th {\n",
       "        text-align: right;\n",
       "    }\n",
       "</style>\n",
       "<table border=\"1\" class=\"dataframe\">\n",
       "  <thead>\n",
       "    <tr style=\"text-align: right;\">\n",
       "      <th></th>\n",
       "      <th>RI</th>\n",
       "      <th>Na</th>\n",
       "      <th>Mg</th>\n",
       "      <th>Al</th>\n",
       "      <th>Si</th>\n",
       "      <th>K</th>\n",
       "      <th>Ca</th>\n",
       "      <th>Ba</th>\n",
       "      <th>Fe</th>\n",
       "      <th>Type</th>\n",
       "    </tr>\n",
       "  </thead>\n",
       "  <tbody>\n",
       "    <tr>\n",
       "      <th>count</th>\n",
       "      <td>214.000</td>\n",
       "      <td>214.000</td>\n",
       "      <td>214.000</td>\n",
       "      <td>214.000</td>\n",
       "      <td>214.000</td>\n",
       "      <td>214.000</td>\n",
       "      <td>214.000</td>\n",
       "      <td>214.000</td>\n",
       "      <td>214.000</td>\n",
       "      <td>214.000</td>\n",
       "    </tr>\n",
       "    <tr>\n",
       "      <th>mean</th>\n",
       "      <td>1.518</td>\n",
       "      <td>13.408</td>\n",
       "      <td>2.685</td>\n",
       "      <td>1.445</td>\n",
       "      <td>72.651</td>\n",
       "      <td>0.497</td>\n",
       "      <td>8.957</td>\n",
       "      <td>0.175</td>\n",
       "      <td>0.057</td>\n",
       "      <td>2.780</td>\n",
       "    </tr>\n",
       "    <tr>\n",
       "      <th>std</th>\n",
       "      <td>0.003</td>\n",
       "      <td>0.817</td>\n",
       "      <td>1.442</td>\n",
       "      <td>0.499</td>\n",
       "      <td>0.775</td>\n",
       "      <td>0.652</td>\n",
       "      <td>1.423</td>\n",
       "      <td>0.497</td>\n",
       "      <td>0.097</td>\n",
       "      <td>2.104</td>\n",
       "    </tr>\n",
       "    <tr>\n",
       "      <th>min</th>\n",
       "      <td>1.511</td>\n",
       "      <td>10.730</td>\n",
       "      <td>0.000</td>\n",
       "      <td>0.290</td>\n",
       "      <td>69.810</td>\n",
       "      <td>0.000</td>\n",
       "      <td>5.430</td>\n",
       "      <td>0.000</td>\n",
       "      <td>0.000</td>\n",
       "      <td>1.000</td>\n",
       "    </tr>\n",
       "    <tr>\n",
       "      <th>25%</th>\n",
       "      <td>1.517</td>\n",
       "      <td>12.908</td>\n",
       "      <td>2.115</td>\n",
       "      <td>1.190</td>\n",
       "      <td>72.280</td>\n",
       "      <td>0.122</td>\n",
       "      <td>8.240</td>\n",
       "      <td>0.000</td>\n",
       "      <td>0.000</td>\n",
       "      <td>1.000</td>\n",
       "    </tr>\n",
       "    <tr>\n",
       "      <th>50%</th>\n",
       "      <td>1.518</td>\n",
       "      <td>13.300</td>\n",
       "      <td>3.480</td>\n",
       "      <td>1.360</td>\n",
       "      <td>72.790</td>\n",
       "      <td>0.555</td>\n",
       "      <td>8.600</td>\n",
       "      <td>0.000</td>\n",
       "      <td>0.000</td>\n",
       "      <td>2.000</td>\n",
       "    </tr>\n",
       "    <tr>\n",
       "      <th>75%</th>\n",
       "      <td>1.519</td>\n",
       "      <td>13.825</td>\n",
       "      <td>3.600</td>\n",
       "      <td>1.630</td>\n",
       "      <td>73.088</td>\n",
       "      <td>0.610</td>\n",
       "      <td>9.172</td>\n",
       "      <td>0.000</td>\n",
       "      <td>0.100</td>\n",
       "      <td>3.000</td>\n",
       "    </tr>\n",
       "    <tr>\n",
       "      <th>max</th>\n",
       "      <td>1.534</td>\n",
       "      <td>17.380</td>\n",
       "      <td>4.490</td>\n",
       "      <td>3.500</td>\n",
       "      <td>75.410</td>\n",
       "      <td>6.210</td>\n",
       "      <td>16.190</td>\n",
       "      <td>3.150</td>\n",
       "      <td>0.510</td>\n",
       "      <td>7.000</td>\n",
       "    </tr>\n",
       "  </tbody>\n",
       "</table>\n",
       "</div>"
      ],
      "text/plain": [
       "            RI       Na       Mg       Al       Si        K       Ca       Ba  \\\n",
       "count  214.000  214.000  214.000  214.000  214.000  214.000  214.000  214.000   \n",
       "mean     1.518   13.408    2.685    1.445   72.651    0.497    8.957    0.175   \n",
       "std      0.003    0.817    1.442    0.499    0.775    0.652    1.423    0.497   \n",
       "min      1.511   10.730    0.000    0.290   69.810    0.000    5.430    0.000   \n",
       "25%      1.517   12.908    2.115    1.190   72.280    0.122    8.240    0.000   \n",
       "50%      1.518   13.300    3.480    1.360   72.790    0.555    8.600    0.000   \n",
       "75%      1.519   13.825    3.600    1.630   73.088    0.610    9.172    0.000   \n",
       "max      1.534   17.380    4.490    3.500   75.410    6.210   16.190    3.150   \n",
       "\n",
       "            Fe     Type  \n",
       "count  214.000  214.000  \n",
       "mean     0.057    2.780  \n",
       "std      0.097    2.104  \n",
       "min      0.000    1.000  \n",
       "25%      0.000    1.000  \n",
       "50%      0.000    2.000  \n",
       "75%      0.100    3.000  \n",
       "max      0.510    7.000  "
      ]
     },
     "execution_count": 6,
     "metadata": {},
     "output_type": "execute_result"
    }
   ],
   "source": [
    "data = data.drop('Id', axis=1)\n",
    "data.describe().round(3)"
   ]
  },
  {
   "cell_type": "code",
   "execution_count": 7,
   "id": "9e85e8dc",
   "metadata": {},
   "outputs": [
    {
     "data": {
      "text/plain": [
       "array([[<Axes: title={'center': 'Type'}>]], dtype=object)"
      ]
     },
     "execution_count": 7,
     "metadata": {},
     "output_type": "execute_result"
    },
    {
     "data": {
      "image/png": "[encoded data removed]",
      "text/plain": [
       "<Figure size 640x480 with 1 Axes>"
      ]
     },
     "metadata": {},
     "output_type": "display_data"
    }
   ],
   "source": [
    "data.hist(column='Type')"
   ]
  },
  {
   "cell_type": "code",
   "execution_count": 8,
   "id": "9265c578",
   "metadata": {},
   "outputs": [
    {
     "data": {
      "text/plain": [
       "array([[<Axes: title={'center': 'RI'}>, <Axes: title={'center': 'Na'}>,\n",
       "        <Axes: title={'center': 'Mg'}>],\n",
       "       [<Axes: title={'center': 'Al'}>, <Axes: title={'center': 'Si'}>,\n",
       "        <Axes: title={'center': 'K'}>],\n",
       "       [<Axes: title={'center': 'Ca'}>, <Axes: title={'center': 'Ba'}>,\n",
       "        <Axes: title={'center': 'Fe'}>]], dtype=object)"
      ]
     },
     "execution_count": 8,
     "metadata": {},
     "output_type": "execute_result"
    },
    {
     "data": {
      "image/png": "[encoded data removed]",
      "text/plain": [
       "<Figure size 1600x1000 with 9 Axes>"
      ]
     },
     "metadata": {},
     "output_type": "display_data"
    }
   ],
   "source": [
    "data.hist(column=['RI', 'Na', 'Mg', 'Al', 'Si', 'K', 'Ca', 'Ba', 'Fe'], figsize = (16,10))"
   ]
  },
  {
   "cell_type": "markdown",
   "id": "952cd87d",
   "metadata": {},
   "source": [
    "# Data preparation - split features and labels"
   ]
  },
  {
   "cell_type": "code",
   "execution_count": 9,
   "id": "834742fd",
   "metadata": {},
   "outputs": [
    {
     "name": "stdout",
     "output_type": "stream",
     "text": [
      "(214, 9) (214,)\n"
     ]
    }
   ],
   "source": [
    "X = data.drop('Type', axis = 1)\n",
    "y = data.Type\n",
    "print(X.shape, y.shape)"
   ]
  },
  {
   "cell_type": "markdown",
   "id": "491a589f",
   "metadata": {},
   "source": [
    "# Get evaluation metrics"
   ]
  },
  {
   "cell_type": "code",
   "execution_count": 10,
   "id": "fa7a153b",
   "metadata": {},
   "outputs": [],
   "source": [
    "def evaluate_pred(y_test, y_pred):\n",
    "    accuracy = accuracy_score(y_test, y_pred)\n",
    "    precision = precision_score(y_test, y_pred, average='macro')\n",
    "    recall = recall_score(y_test, y_pred, average='macro')\n",
    "    f1 = f1_score(y_test, y_pred, average='macro')\n",
    "    print(f\"Accuracy: {accuracy:.2f}\")\n",
    "    print(f\"Precision: {precision:.2f}\")\n",
    "    print(f\"Recall: {recall:.2f}\")\n",
    "    print(f\"F1: {f1:.2f}\")"
   ]
  },
  {
   "cell_type": "markdown",
   "id": "2ef6f85a",
   "metadata": {},
   "source": [
    "# Test Naive Bayes Classifier without data processing"
   ]
  },
  {
   "cell_type": "code",
   "execution_count": 11,
   "id": "b9c875f8",
   "metadata": {},
   "outputs": [],
   "source": [
    "X_train, X_test, y_train, y_test = train_test_split(X, y, test_size=0.3, random_state=0)"
   ]
  },
  {
   "cell_type": "code",
   "execution_count": 12,
   "id": "89bf5f0e",
   "metadata": {},
   "outputs": [
    {
     "name": "stdout",
     "output_type": "stream",
     "text": [
      "Accuracy: 0.46\n",
      "Precision: 0.41\n",
      "Recall: 0.50\n",
      "F1: 0.41\n"
     ]
    }
   ],
   "source": [
    "clf = GaussianNB()\n",
    "clf.fit(X_train, y_train)\n",
    "y_pred = clf.predict(X_test)\n",
    "evaluate_pred(y_test, y_pred)"
   ]
  },
  {
   "cell_type": "markdown",
   "id": "29783d1a",
   "metadata": {},
   "source": [
    "# Test Naive Bayes Classifier with normalized data"
   ]
  },
  {
   "cell_type": "code",
   "execution_count": 13,
   "id": "6093339a",
   "metadata": {},
   "outputs": [],
   "source": [
    "X_normalized = MinMaxScaler().fit_transform(X)"
   ]
  },
  {
   "cell_type": "code",
   "execution_count": 14,
   "id": "b155ea3e",
   "metadata": {},
   "outputs": [
    {
     "name": "stdout",
     "output_type": "stream",
     "text": [
      "[0.31674366 0.40268428 0.59789147 0.35978397 0.50730975 0.08004124\n",
      " 0.32778463 0.05557039 0.11178303]\n",
      "[0.13300088 0.12251028 0.3204975  0.15517189 0.13798821 0.10477717\n",
      " 0.13195395 0.15747815 0.19060936]\n"
     ]
    }
   ],
   "source": [
    "print(X_normalized.mean(axis=0))\n",
    "print(X_normalized.std(axis=0))"
   ]
  },
  {
   "cell_type": "code",
   "execution_count": 15,
   "id": "7a66c2ea",
   "metadata": {},
   "outputs": [],
   "source": [
    "X_train, X_test, y_train, y_test = train_test_split(X_normalized, y, test_size=0.3, random_state=0)"
   ]
  },
  {
   "cell_type": "code",
   "execution_count": 16,
   "id": "e2c68eb6",
   "metadata": {},
   "outputs": [
    {
     "name": "stdout",
     "output_type": "stream",
     "text": [
      "Accuracy: 0.46\n",
      "Precision: 0.41\n",
      "Recall: 0.50\n",
      "F1: 0.41\n"
     ]
    }
   ],
   "source": [
    "clf = GaussianNB()\n",
    "clf.fit(X_train, y_train)\n",
    "y_pred = clf.predict(X_test)\n",
    "evaluate_pred(y_test, y_pred)"
   ]
  },
  {
   "cell_type": "markdown",
   "id": "a7865601",
   "metadata": {},
   "source": [
    "# Test Naive Bayes Classifier with standardized data"
   ]
  },
  {
   "cell_type": "code",
   "execution_count": 17,
   "id": "ea57d260",
   "metadata": {},
   "outputs": [],
   "source": [
    "X_standardized = StandardScaler().fit_transform(X)"
   ]
  },
  {
   "cell_type": "code",
   "execution_count": 18,
   "id": "43f3d4eb",
   "metadata": {},
   "outputs": [
    {
     "name": "stdout",
     "output_type": "stream",
     "text": [
      "[-2.87703402e-14  2.19139348e-15 -1.32811726e-16 -2.98826384e-16\n",
      "  9.52509100e-16  3.52781148e-17 -3.15427850e-16 -6.64058632e-17\n",
      " -3.73532980e-17]\n",
      "[1. 1. 1. 1. 1. 1. 1. 1. 1.]\n"
     ]
    }
   ],
   "source": [
    "print(X_standardized.mean(axis=0))\n",
    "print(X_standardized.std(axis=0))"
   ]
  },
  {
   "cell_type": "code",
   "execution_count": 19,
   "id": "d36270dd",
   "metadata": {},
   "outputs": [],
   "source": [
    "X_train, X_test, y_train, y_test = train_test_split(X_standardized, y, test_size=0.3, random_state=0)"
   ]
  },
  {
   "cell_type": "code",
   "execution_count": 20,
   "id": "4b3aeb0f",
   "metadata": {},
   "outputs": [
    {
     "name": "stdout",
     "output_type": "stream",
     "text": [
      "Accuracy: 0.46\n",
      "Precision: 0.41\n",
      "Recall: 0.50\n",
      "F1: 0.41\n"
     ]
    }
   ],
   "source": [
    "clf = GaussianNB()\n",
    "clf.fit(X_train, y_train)\n",
    "y_pred = clf.predict(X_test)\n",
    "evaluate_pred(y_test, y_pred)"
   ]
  },
  {
   "cell_type": "markdown",
   "id": "9c6f8045",
   "metadata": {},
   "source": [
    "# Test Naive Bayes Classifier with dimensionality reduction using PCA"
   ]
  },
  {
   "cell_type": "code",
   "execution_count": 21,
   "id": "b00745b7",
   "metadata": {},
   "outputs": [
    {
     "data": {
      "text/plain": [
       "array([0.12234891, 0.04845014, 0.03406697, 0.02638713, 0.01848151,\n",
       "       0.01134923, 0.00702857, 0.00116559])"
      ]
     },
     "execution_count": 21,
     "metadata": {},
     "output_type": "execute_result"
    }
   ],
   "source": [
    "pca = PCA(n_components=8)\n",
    "pca.fit(X_normalized)\n",
    "X_pca = pca.transform(X_normalized)\n",
    "\n",
    "pca.explained_variance_"
   ]
  },
  {
   "cell_type": "code",
   "execution_count": 22,
   "id": "2de2f91c",
   "metadata": {},
   "outputs": [
    {
     "name": "stdout",
     "output_type": "stream",
     "text": [
      "Accuracy: 0.52\n",
      "Precision: 0.40\n",
      "Recall: 0.37\n",
      "F1: 0.35\n"
     ]
    }
   ],
   "source": [
    "X_train, X_test, y_train, y_test = train_test_split(X_pca, y, test_size=0.3, random_state=0)\n",
    "clf = GaussianNB()\n",
    "clf.fit(X_train, y_train)\n",
    "y_pred = clf.predict(X_test)\n",
    "evaluate_pred(y_test, y_pred)"
   ]
  },
  {
   "cell_type": "markdown",
   "id": "0f4f3411",
   "metadata": {},
   "source": [
    "# Test Decision Tree Classifier with different sets of hyperparameters"
   ]
  },
  {
   "cell_type": "code",
   "execution_count": 23,
   "id": "222ab205",
   "metadata": {},
   "outputs": [],
   "source": [
    "X_train, X_test, y_train, y_test = train_test_split(X_normalized, y, test_size=0.3, random_state=0)"
   ]
  },
  {
   "cell_type": "code",
   "execution_count": 24,
   "id": "b3f406ae",
   "metadata": {},
   "outputs": [
    {
     "data": {
      "text/plain": [
       "{'ccp_alpha': 0.0,\n",
       " 'class_weight': None,\n",
       " 'criterion': 'gini',\n",
       " 'max_depth': None,\n",
       " 'max_features': None,\n",
       " 'max_leaf_nodes': None,\n",
       " 'min_impurity_decrease': 0.0,\n",
       " 'min_samples_leaf': 1,\n",
       " 'min_samples_split': 2,\n",
       " 'min_weight_fraction_leaf': 0.0,\n",
       " 'random_state': None,\n",
       " 'splitter': 'best'}"
      ]
     },
     "execution_count": 24,
     "metadata": {},
     "output_type": "execute_result"
    }
   ],
   "source": [
    "DecisionTreeClassifier().get_params()"
   ]
  },
  {
   "cell_type": "code",
   "execution_count": 25,
   "id": "5d10983f",
   "metadata": {},
   "outputs": [
    {
     "name": "stdout",
     "output_type": "stream",
     "text": [
      "Accuracy: 0.65\n",
      "Precision: 0.61\n",
      "Recall: 0.74\n",
      "F1: 0.64\n"
     ]
    }
   ],
   "source": [
    "np.random.seed(0)\n",
    "clf = DecisionTreeClassifier()\n",
    "clf.fit(X_train, y_train)\n",
    "y_pred = clf.predict(X_test)\n",
    "evaluate_pred(y_test, y_pred)"
   ]
  },
  {
   "cell_type": "code",
   "execution_count": 26,
   "id": "a735d476",
   "metadata": {},
   "outputs": [
    {
     "name": "stdout",
     "output_type": "stream",
     "text": [
      "Accuracy: 0.63\n",
      "Precision: 0.72\n",
      "Recall: 0.69\n",
      "F1: 0.68\n"
     ]
    }
   ],
   "source": [
    "np.random.seed(0)\n",
    "params = {'criterion': 'entropy', \n",
    "         }\n",
    "clf_1 = DecisionTreeClassifier(**params)\n",
    "clf_1.fit(X_train, y_train)\n",
    "y_pred = clf_1.predict(X_test)\n",
    "evaluate_pred(y_test, y_pred)"
   ]
  },
  {
   "cell_type": "code",
   "execution_count": 107,
   "id": "31c922c0",
   "metadata": {},
   "outputs": [
    {
     "name": "stdout",
     "output_type": "stream",
     "text": [
      "Accuracy: 0.68\n",
      "Precision: 0.76\n",
      "Recall: 0.71\n",
      "F1: 0.71\n"
     ]
    }
   ],
   "source": [
    "np.random.seed(0)\n",
    "params = {'criterion': 'entropy', \n",
    "          'max_depth': 5\n",
    "         }\n",
    "clf_2 = DecisionTreeClassifier(**params)\n",
    "clf_2.fit(X_train, y_train)\n",
    "y_pred = clf_2.predict(X_test)\n",
    "evaluate_pred(y_test, y_pred)"
   ]
  },
  {
   "cell_type": "code",
   "execution_count": 108,
   "id": "4bdef919",
   "metadata": {},
   "outputs": [
    {
     "name": "stdout",
     "output_type": "stream",
     "text": [
      "Accuracy: 0.71\n",
      "Precision: 0.76\n",
      "Recall: 0.79\n",
      "F1: 0.75\n"
     ]
    }
   ],
   "source": [
    "np.random.seed(0)\n",
    "params = {'criterion': 'gini', \n",
    "          'max_depth': 5, \n",
    "          'max_features': 'sqrt'\n",
    "         }\n",
    "clf_3 = DecisionTreeClassifier(**params)\n",
    "clf_3.fit(X_train, y_train)\n",
    "y_pred = clf_3.predict(X_test)\n",
    "evaluate_pred(y_test, y_pred)"
   ]
  },
  {
   "cell_type": "code",
   "execution_count": 109,
   "id": "a784a471",
   "metadata": {},
   "outputs": [
    {
     "name": "stdout",
     "output_type": "stream",
     "text": [
      "Accuracy: 0.74\n",
      "Precision: 0.75\n",
      "Recall: 0.81\n",
      "F1: 0.78\n"
     ]
    }
   ],
   "source": [
    "np.random.seed(0)\n",
    "params = {'criterion': 'gini', \n",
    "          'max_depth': 10, \n",
    "          'max_features': 'sqrt'\n",
    "         }\n",
    "clf_4 = DecisionTreeClassifier(**params)\n",
    "clf_4.fit(X_train, y_train)\n",
    "y_pred = clf_4.predict(X_test)\n",
    "evaluate_pred(y_test, y_pred)"
   ]
  },
  {
   "cell_type": "markdown",
   "id": "2cd148e6",
   "metadata": {},
   "source": [
    "# Test GaussianNB Classifier with different sets of hyperparameters"
   ]
  },
  {
   "cell_type": "code",
   "execution_count": 111,
   "id": "2d65d472",
   "metadata": {},
   "outputs": [],
   "source": [
    "X_train, X_test, y_train, y_test = train_test_split(X_normalized, y, test_size=0.3, random_state=0)"
   ]
  },
  {
   "cell_type": "code",
   "execution_count": 112,
   "id": "94d96fb4",
   "metadata": {},
   "outputs": [
    {
     "data": {
      "text/plain": [
       "{'priors': None, 'var_smoothing': 1e-09}"
      ]
     },
     "execution_count": 112,
     "metadata": {},
     "output_type": "execute_result"
    }
   ],
   "source": [
    "GaussianNB().get_params()"
   ]
  },
  {
   "cell_type": "code",
   "execution_count": 113,
   "id": "7349624f",
   "metadata": {},
   "outputs": [
    {
     "name": "stdout",
     "output_type": "stream",
     "text": [
      "Accuracy: 0.46\n",
      "Precision: 0.41\n",
      "Recall: 0.50\n",
      "F1: 0.41\n"
     ]
    }
   ],
   "source": [
    "params = {'priors': None, 'var_smoothing': 1e-9}\n",
    "clf = GaussianNB(**params)\n",
    "clf.fit(X_train, y_train)\n",
    "y_pred = clf.predict(X_test)\n",
    "evaluate_pred(y_test, y_pred)"
   ]
  },
  {
   "cell_type": "code",
   "execution_count": 114,
   "id": "74860885",
   "metadata": {},
   "outputs": [
    {
     "name": "stdout",
     "output_type": "stream",
     "text": [
      "Accuracy: 0.48\n",
      "Precision: 0.46\n",
      "Recall: 0.50\n",
      "F1: 0.45\n"
     ]
    }
   ],
   "source": [
    "params = {'priors': None, 'var_smoothing': 1e-2}\n",
    "clf = GaussianNB(**params)\n",
    "clf.fit(X_train, y_train)\n",
    "y_pred = clf.predict(X_test)\n",
    "evaluate_pred(y_test, y_pred)"
   ]
  },
  {
   "cell_type": "code",
   "execution_count": 115,
   "id": "60d7aba8",
   "metadata": {},
   "outputs": [
    {
     "data": {
      "text/plain": [
       "Type\n",
       "6    0.042056\n",
       "3    0.079439\n",
       "2    0.355140\n",
       "5    0.060748\n",
       "1    0.327103\n",
       "7    0.135514\n",
       "dtype: float64"
      ]
     },
     "execution_count": 115,
     "metadata": {},
     "output_type": "execute_result"
    }
   ],
   "source": [
    "probabilities = data.groupby('Type').size().div(len(data))\n",
    "probabilities = probabilities.sample(frac=1)\n",
    "probabilities"
   ]
  },
  {
   "cell_type": "code",
   "execution_count": 116,
   "id": "1e1891fb",
   "metadata": {},
   "outputs": [
    {
     "name": "stdout",
     "output_type": "stream",
     "text": [
      "Accuracy: 0.28\n",
      "Precision: 0.41\n",
      "Recall: 0.50\n",
      "F1: 0.32\n"
     ]
    }
   ],
   "source": [
    "params = {'priors': probabilities, 'var_smoothing': 1e-2}\n",
    "clf = GaussianNB(**params)\n",
    "clf.fit(X_train, y_train)\n",
    "y_pred = clf.predict(X_test)\n",
    "evaluate_pred(y_test, y_pred)"
   ]
  },
  {
   "cell_type": "markdown",
   "id": "3d59c7b9",
   "metadata": {},
   "source": [
    "# Test Decision Tree Classifier with different types of data preparation"
   ]
  },
  {
   "cell_type": "code",
   "execution_count": 117,
   "id": "fe350ef4",
   "metadata": {},
   "outputs": [],
   "source": [
    "params = {'criterion': 'gini', \n",
    "          'max_depth': 10, \n",
    "          'max_features': 'sqrt'\n",
    "         }"
   ]
  },
  {
   "cell_type": "code",
   "execution_count": 118,
   "id": "bb57b8bf",
   "metadata": {},
   "outputs": [
    {
     "name": "stdout",
     "output_type": "stream",
     "text": [
      "Accuracy: 0.72\n",
      "Precision: 0.75\n",
      "Recall: 0.80\n",
      "F1: 0.77\n"
     ]
    }
   ],
   "source": [
    "X_train, X_test, y_train, y_test = train_test_split(X, y, test_size=0.3, random_state=0)\n",
    "np.random.seed(0)\n",
    "clf = DecisionTreeClassifier(**params)\n",
    "clf.fit(X_train, y_train)\n",
    "y_pred = clf.predict(X_test)\n",
    "evaluate_pred(y_test, y_pred)"
   ]
  },
  {
   "cell_type": "code",
   "execution_count": 119,
   "id": "c50f722a",
   "metadata": {},
   "outputs": [
    {
     "name": "stdout",
     "output_type": "stream",
     "text": [
      "Accuracy: 0.74\n",
      "Precision: 0.75\n",
      "Recall: 0.81\n",
      "F1: 0.78\n"
     ]
    }
   ],
   "source": [
    "X_train, X_test, y_train, y_test = train_test_split(X_normalized, y, test_size=0.3, random_state=0)\n",
    "np.random.seed(0)\n",
    "clf = DecisionTreeClassifier(**params)\n",
    "clf.fit(X_train, y_train)\n",
    "y_pred = clf.predict(X_test)\n",
    "evaluate_pred(y_test, y_pred)"
   ]
  },
  {
   "cell_type": "code",
   "execution_count": 120,
   "id": "cefec627",
   "metadata": {},
   "outputs": [
    {
     "name": "stdout",
     "output_type": "stream",
     "text": [
      "Accuracy: 0.74\n",
      "Precision: 0.75\n",
      "Recall: 0.81\n",
      "F1: 0.78\n"
     ]
    }
   ],
   "source": [
    "X_train, X_test, y_train, y_test = train_test_split(X_standardized, y, test_size=0.3, random_state=0)\n",
    "np.random.seed(0)\n",
    "clf = DecisionTreeClassifier(**params)\n",
    "clf.fit(X_train, y_train)\n",
    "y_pred = clf.predict(X_test)\n",
    "evaluate_pred(y_test, y_pred)"
   ]
  },
  {
   "cell_type": "code",
   "execution_count": null,
   "id": "197e8d36",
   "metadata": {},
   "outputs": [],
   "source": []
  },
  {
   "cell_type": "code",
   "execution_count": null,
   "id": "45f3ce66",
   "metadata": {},
   "outputs": [],
   "source": []
  }
 ],
 "metadata": {
  "kernelspec": {
   "display_name": "Python 3 (ipykernel)",
   "language": "python",
   "name": "python3"
  },
  "language_info": {
   "codemirror_mode": {
    "name": "ipython",
    "version": 3
   },
   "file_extension": ".py",
   "mimetype": "text/x-python",
   "name": "python",
   "nbconvert_exporter": "python",
   "pygments_lexer": "ipython3",
   "version": "3.11.2"
  }
 },
 "nbformat": 4,
 "nbformat_minor": 5
}
